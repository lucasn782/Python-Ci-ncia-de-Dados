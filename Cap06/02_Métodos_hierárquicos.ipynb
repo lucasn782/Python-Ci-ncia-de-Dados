{
 "cells": [
  {
   "cell_type": "markdown",
   "metadata": {},
   "source": [
    "___\n",
    "# Capítulo 6 - Análise de Clusters\n",
    "## Seção 2 - Métodos Hierárquicos\n",
    "___"
   ]
  },
  {
   "cell_type": "code",
   "execution_count": 1,
   "metadata": {},
   "outputs": [],
   "source": [
    "import numpy as np\n",
    "import pandas as pd\n",
    "import seaborn as sns\n",
    "import matplotlib.pyplot as plt\n",
    "from matplotlib import rcParams\n",
    "\n",
    "from scipy.cluster.hierarchy import dendrogram, linkage\n",
    "from sklearn.cluster import AgglomerativeClustering\n",
    "from sklearn.metrics import accuracy_score\n",
    "\n",
    "\n",
    "np.set_printoptions(precision=4, suppress=True)\n",
    "plt.figure(figsize=(10, 3))\n",
    "%matplotlib inline\n",
    "plt.style.use('seaborn-whitegrid')\n",
    "\n",
    "caminho = 'C:/Users/lucas/OneDrive/Documentos/GitHub/Python Ciência de Dados/dados/mtcars.csv'\n",
    "carros = pd.read_csv(caminho)\n",
    "carros.columns = ['nomes','mpg','cyl','disp', 'hp', 'drat', 'wt', 'qsec', 'vs', 'am', 'qtd_marchas', 'carb']\n",
    "\n",
    "X = carros[['mpg', 'disp', 'hp', 'wt']].values\n",
    "\n",
    "y = carros['am'].values"
   ]
  },
  {
   "cell_type": "markdown",
   "metadata": {},
   "source": [
    "### Usando scipy para gerar dendrogramas"
   ]
  },
  {
   "cell_type": "code",
   "execution_count": 2,
   "metadata": {},
   "outputs": [],
   "source": [
    "z = linkage(X, 'ward')"
   ]
  },
  {
   "cell_type": "code",
   "execution_count": 4,
   "metadata": {},
   "outputs": [
    {
     "data": {
      "image/png": "[encoded data removed]",
      "text/plain": [
       "<Figure size 432x288 with 1 Axes>"
      ]
     },
     "metadata": {},
     "output_type": "display_data"
    }
   ],
   "source": [
    "dendrogram(z, truncate_mode='lastp', p=12, leaf_rotation=45., leaf_font_size=15., show_contracted=True)\n",
    "\n",
    "plt.title('Dendrograma de Agrupamento Hierárquico Truncado')\n",
    "plt.xlabel('Tamanho do Cluster')\n",
    "plt.ylabel('Distância')\n",
    "\n",
    "plt.axhline(y=500)\n",
    "plt.axhline(y=150)\n",
    "plt.show()"
   ]
  },
  {
   "cell_type": "markdown",
   "metadata": {},
   "source": [
    "### Gerando clusters hierárquicos"
   ]
  },
  {
   "cell_type": "code",
   "execution_count": 5,
   "metadata": {},
   "outputs": [
    {
     "data": {
      "text/plain": [
       "0.78125"
      ]
     },
     "execution_count": 5,
     "metadata": {},
     "output_type": "execute_result"
    }
   ],
   "source": [
    "k = 2\n",
    "\n",
    "hclusters = AgglomerativeClustering(n_clusters=k, affinity='euclidean', linkage='ward').fit(X)\n",
    "accuracy_score(y, hclusters.labels_)"
   ]
  },
  {
   "cell_type": "code",
   "execution_count": 6,
   "metadata": {},
   "outputs": [
    {
     "data": {
      "text/plain": [
       "0.4375"
      ]
     },
     "execution_count": 6,
     "metadata": {},
     "output_type": "execute_result"
    }
   ],
   "source": [
    "k = 2\n",
    "\n",
    "hclusters = AgglomerativeClustering(n_clusters=k, affinity='euclidean', linkage='complete').fit(X)\n",
    "accuracy_score(y, hclusters.labels_)"
   ]
  },
  {
   "cell_type": "code",
   "execution_count": 7,
   "metadata": {},
   "outputs": [
    {
     "data": {
      "text/plain": [
       "0.78125"
      ]
     },
     "execution_count": 7,
     "metadata": {},
     "output_type": "execute_result"
    }
   ],
   "source": [
    "k = 2\n",
    "\n",
    "hclusters = AgglomerativeClustering(n_clusters=k, affinity='euclidean', linkage='average').fit(X)\n",
    "accuracy_score(y, hclusters.labels_)"
   ]
  },
  {
   "cell_type": "code",
   "execution_count": 8,
   "metadata": {},
   "outputs": [
    {
     "data": {
      "text/plain": [
       "0.71875"
      ]
     },
     "execution_count": 8,
     "metadata": {},
     "output_type": "execute_result"
    }
   ],
   "source": [
    "k = 2\n",
    "\n",
    "hclusters = AgglomerativeClustering(n_clusters=k, affinity='manhattan', linkage='average').fit(X)\n",
    "accuracy_score(y, hclusters.labels_)"
   ]
  }
 ],
 "metadata": {
  "kernelspec": {
   "display_name": "Python 3.10.5 64-bit",
   "language": "python",
   "name": "python3"
  },
  "language_info": {
   "codemirror_mode": {
    "name": "ipython",
    "version": 3
   },
   "file_extension": ".py",
   "mimetype": "text/x-python",
   "name": "python",
   "nbconvert_exporter": "python",
   "pygments_lexer": "ipython3",
   "version": "3.10.5"
  },
  "orig_nbformat": 4,
  "vscode": {
   "interpreter": {
    "hash": "37083a178839ddb6837eca99e3841ef7be6dad5dc50c6d19829e2187d61ddd5d"
   }
  }
 },
 "nbformat": 4,
 "nbformat_minor": 2
}
